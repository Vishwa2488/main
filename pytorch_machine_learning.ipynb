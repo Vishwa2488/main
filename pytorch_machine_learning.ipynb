{
  "nbformat": 4,
  "nbformat_minor": 0,
  "metadata": {
    "colab": {
      "provenance": [],
      "gpuType": "T4",
      "authorship_tag": "ABX9TyNy3RYTiisAlED1ANhleJTJ",
      "include_colab_link": true
    },
    "kernelspec": {
      "name": "python3",
      "display_name": "Python 3"
    },
    "language_info": {
      "name": "python"
    },
    "gpuClass": "standard"
  },
  "cells": [
    {
      "cell_type": "markdown",
      "metadata": {
        "id": "view-in-github",
        "colab_type": "text"
      },
      "source": [
        "<a href=\"https://colab.research.google.com/github/Vishwa2488/main/blob/main/pytorch_machine_learning.ipynb\" target=\"_parent\"><img src=\"https://colab.research.google.com/assets/colab-badge.svg\" alt=\"Open In Colab\"/></a>"
      ]
    },
    {
      "cell_type": "code",
      "execution_count": null,
      "metadata": {
        "id": "Nrcfp7fLouFj",
        "colab": {
          "base_uri": "https://localhost:8080/"
        },
        "outputId": "5b33352b-9618-4a9f-a82a-b3a99926a2d3"
      },
      "outputs": [
        {
          "output_type": "stream",
          "name": "stdout",
          "text": [
            "2.0.1+cu118\n"
          ]
        }
      ],
      "source": [
        "import torch\n",
        "import pandas as pd\n",
        "import numpy as np\n",
        "import matplotlib.pyplot as plt\n",
        "\n",
        "print(torch.__version__)\n",
        "\n"
      ]
    },
    {
      "cell_type": "markdown",
      "source": [
        "Tensors"
      ],
      "metadata": {
        "id": "glnhPaVebpWq"
      }
    },
    {
      "cell_type": "code",
      "source": [
        "#scalar\n",
        "scalar=torch.tensor(5)\n",
        "\n",
        "d1=torch.tensor([3,5,4])\n",
        "print(d1)\n",
        "\n",
        "print(scalar)\n"
      ],
      "metadata": {
        "colab": {
          "base_uri": "https://localhost:8080/"
        },
        "id": "P9wpNtPobrVk",
        "outputId": "14e455ab-019e-4ef3-f06e-731dcf01a0fa"
      },
      "execution_count": null,
      "outputs": [
        {
          "output_type": "stream",
          "name": "stdout",
          "text": [
            "tensor([3, 5, 4])\n",
            "tensor(5)\n"
          ]
        }
      ]
    },
    {
      "cell_type": "code",
      "source": [
        "#ndim=find dimension of tensor\n",
        "print(scalar.ndim)\n",
        "print(d1.ndim)\n",
        "\n"
      ],
      "metadata": {
        "colab": {
          "base_uri": "https://localhost:8080/"
        },
        "id": "6PUxTFemb9h9",
        "outputId": "2138da4d-7706-4a1c-83c3-0b85030768d1"
      },
      "execution_count": null,
      "outputs": [
        {
          "output_type": "stream",
          "name": "stdout",
          "text": [
            "0\n",
            "1\n"
          ]
        }
      ]
    },
    {
      "cell_type": "code",
      "source": [
        "#to get tensor to python integer\n",
        "print(scalar.item())\n",
        "#d1.item() gives error. only for scalar\n",
        "\n",
        "\n"
      ],
      "metadata": {
        "colab": {
          "base_uri": "https://localhost:8080/"
        },
        "id": "o87DtQbNcpQB",
        "outputId": "4727d794-e5c8-4de4-dbff-19171d127ca1"
      },
      "execution_count": null,
      "outputs": [
        {
          "output_type": "stream",
          "name": "stdout",
          "text": [
            "5\n"
          ]
        }
      ]
    },
    {
      "cell_type": "code",
      "source": [
        "#vector\n",
        "d1=torch.tensor([1,2,3])\n",
        "\n",
        "print(d1.ndim)\n",
        "\n",
        "print(\"shape of vector=\",d1.shape)\n"
      ],
      "metadata": {
        "colab": {
          "base_uri": "https://localhost:8080/"
        },
        "id": "VX9JRxs47OGi",
        "outputId": "7bd01cd9-ef91-483d-9560-d3c02cd962f1"
      },
      "execution_count": null,
      "outputs": [
        {
          "output_type": "stream",
          "name": "stdout",
          "text": [
            "1\n",
            "shape of vector= torch.Size([3])\n"
          ]
        }
      ]
    },
    {
      "cell_type": "code",
      "source": [
        "#matrix\n",
        "\n",
        "matrix=torch.tensor([[1,2],[3,4]])\n",
        "\n",
        "matrix"
      ],
      "metadata": {
        "colab": {
          "base_uri": "https://localhost:8080/"
        },
        "id": "93Ouh5jS75RJ",
        "outputId": "4bdf9120-9c37-48b2-aea9-43fb03a5ec30"
      },
      "execution_count": null,
      "outputs": [
        {
          "output_type": "execute_result",
          "data": {
            "text/plain": [
              "tensor([[1, 2],\n",
              "        [3, 4]])"
            ]
          },
          "metadata": {},
          "execution_count": 7
        }
      ]
    },
    {
      "cell_type": "code",
      "source": [
        "matrix.ndim"
      ],
      "metadata": {
        "colab": {
          "base_uri": "https://localhost:8080/"
        },
        "id": "FM-IE5sc8G4j",
        "outputId": "6aa0f9a3-bd1f-42ee-e7bd-608784415a97"
      },
      "execution_count": null,
      "outputs": [
        {
          "output_type": "execute_result",
          "data": {
            "text/plain": [
              "2"
            ]
          },
          "metadata": {},
          "execution_count": 8
        }
      ]
    },
    {
      "cell_type": "code",
      "source": [
        "matrix.shape\n",
        "\n",
        "\n"
      ],
      "metadata": {
        "colab": {
          "base_uri": "https://localhost:8080/"
        },
        "id": "6jj9p7Pr8S8j",
        "outputId": "ef3ac4b3-7970-4170-8f08-bbd1f04f9034"
      },
      "execution_count": null,
      "outputs": [
        {
          "output_type": "execute_result",
          "data": {
            "text/plain": [
              "torch.Size([2, 2])"
            ]
          },
          "metadata": {},
          "execution_count": 9
        }
      ]
    },
    {
      "cell_type": "code",
      "source": [
        "matrix[1]"
      ],
      "metadata": {
        "colab": {
          "base_uri": "https://localhost:8080/"
        },
        "id": "NY0BAlXI8X2X",
        "outputId": "c1a8c534-7e30-4adf-c6ad-fa9fe122fa16"
      },
      "execution_count": null,
      "outputs": [
        {
          "output_type": "execute_result",
          "data": {
            "text/plain": [
              "tensor([3, 4])"
            ]
          },
          "metadata": {},
          "execution_count": 10
        }
      ]
    },
    {
      "cell_type": "code",
      "source": [
        "matrix[1][0]\n"
      ],
      "metadata": {
        "colab": {
          "base_uri": "https://localhost:8080/"
        },
        "id": "f-ms6AES8cKx",
        "outputId": "592b8b09-7f91-4481-f976-42d65353594f"
      },
      "execution_count": null,
      "outputs": [
        {
          "output_type": "execute_result",
          "data": {
            "text/plain": [
              "tensor(3)"
            ]
          },
          "metadata": {},
          "execution_count": 11
        }
      ]
    },
    {
      "cell_type": "code",
      "source": [
        "matrix[0,0]\n"
      ],
      "metadata": {
        "colab": {
          "base_uri": "https://localhost:8080/"
        },
        "id": "KNH_eebZ8fnz",
        "outputId": "9f038bbe-6a19-4e85-df09-faf068c6a047"
      },
      "execution_count": null,
      "outputs": [
        {
          "output_type": "execute_result",
          "data": {
            "text/plain": [
              "tensor(1)"
            ]
          },
          "metadata": {},
          "execution_count": 12
        }
      ]
    },
    {
      "cell_type": "code",
      "source": [
        "#TENSOR\n",
        "TENSOR=torch.tensor([[[1,2],[4,5],[7,8]]])\n",
        "TENSOR"
      ],
      "metadata": {
        "colab": {
          "base_uri": "https://localhost:8080/"
        },
        "id": "4Nxp9Z9W8tMQ",
        "outputId": "4decc45d-c8e2-4959-95f1-d8139a520611"
      },
      "execution_count": null,
      "outputs": [
        {
          "output_type": "execute_result",
          "data": {
            "text/plain": [
              "tensor([[[1, 2],\n",
              "         [4, 5],\n",
              "         [7, 8]]])"
            ]
          },
          "metadata": {},
          "execution_count": 13
        }
      ]
    },
    {
      "cell_type": "code",
      "source": [
        "TENSOR.ndim\n"
      ],
      "metadata": {
        "colab": {
          "base_uri": "https://localhost:8080/"
        },
        "id": "f4R__uod8uxF",
        "outputId": "c6c38b4b-96c4-4cc5-822f-d8bd588e7830"
      },
      "execution_count": null,
      "outputs": [
        {
          "output_type": "execute_result",
          "data": {
            "text/plain": [
              "3"
            ]
          },
          "metadata": {},
          "execution_count": 14
        }
      ]
    },
    {
      "cell_type": "code",
      "source": [
        "TENSOR.shape\n"
      ],
      "metadata": {
        "colab": {
          "base_uri": "https://localhost:8080/"
        },
        "id": "SgbYVEo19QWH",
        "outputId": "c1fa3c6b-135f-4610-bfed-13b9417a509a"
      },
      "execution_count": null,
      "outputs": [
        {
          "output_type": "execute_result",
          "data": {
            "text/plain": [
              "torch.Size([1, 3, 2])"
            ]
          },
          "metadata": {},
          "execution_count": 15
        }
      ]
    },
    {
      "cell_type": "code",
      "source": [
        "TENSOR.type"
      ],
      "metadata": {
        "colab": {
          "base_uri": "https://localhost:8080/"
        },
        "id": "alTxwTFn-G_j",
        "outputId": "31d7d8b6-3608-4763-bb1c-f1aa0ab926c1"
      },
      "execution_count": null,
      "outputs": [
        {
          "output_type": "execute_result",
          "data": {
            "text/plain": [
              "<function Tensor.type>"
            ]
          },
          "metadata": {},
          "execution_count": 16
        }
      ]
    },
    {
      "cell_type": "code",
      "source": [
        "#form numpy array\n",
        "array=np.array([[1,2,3],[3,4,5]])\n",
        "tensor=torch.from_numpy(array)\n",
        "tensor\n"
      ],
      "metadata": {
        "colab": {
          "base_uri": "https://localhost:8080/"
        },
        "id": "LZsow8z--qZR",
        "outputId": "b5484d86-8f00-43a1-c24a-86f3cb8946f4"
      },
      "execution_count": null,
      "outputs": [
        {
          "output_type": "execute_result",
          "data": {
            "text/plain": [
              "tensor([[1, 2, 3],\n",
              "        [3, 4, 5]])"
            ]
          },
          "metadata": {},
          "execution_count": 17
        }
      ]
    },
    {
      "cell_type": "markdown",
      "source": [
        "why random tensors?\n",
        "random tensors are importants because the neural networks start from random numbers. So this is required.\n",
        "\n",
        "\n",
        "Neural Network\n",
        "start with random numbers-look at data-correct it..\n"
      ],
      "metadata": {
        "id": "FMYfj92dApQ8"
      }
    },
    {
      "cell_type": "code",
      "source": [
        "#creating random tensor\n",
        "random_tensor=torch.rand(3,4)\n",
        "random_tensor\n",
        "\n",
        "\n",
        "\n",
        "\n"
      ],
      "metadata": {
        "colab": {
          "base_uri": "https://localhost:8080/"
        },
        "id": "yFtxU35D9jE0",
        "outputId": "ba584fa2-bb22-4290-b378-46d123b2664a"
      },
      "execution_count": null,
      "outputs": [
        {
          "output_type": "execute_result",
          "data": {
            "text/plain": [
              "tensor([[0.8248, 0.5896, 0.4371, 0.5365],\n",
              "        [0.4165, 0.8400, 0.9502, 0.4178],\n",
              "        [0.8589, 0.2154, 0.6879, 0.6427]])"
            ]
          },
          "metadata": {},
          "execution_count": 18
        }
      ]
    },
    {
      "cell_type": "code",
      "source": [
        "rand_tensor=torch.rand(10,10)\n",
        "rand_tensor\n"
      ],
      "metadata": {
        "colab": {
          "base_uri": "https://localhost:8080/"
        },
        "id": "j9rnH3H-BgAs",
        "outputId": "adabea19-9ecb-402e-8287-5405a9e67387"
      },
      "execution_count": null,
      "outputs": [
        {
          "output_type": "execute_result",
          "data": {
            "text/plain": [
              "tensor([[0.2999, 0.4872, 0.4319, 0.3696, 0.2361, 0.8303, 0.8776, 0.7299, 0.0019,\n",
              "         0.5282],\n",
              "        [0.0837, 0.1295, 0.1134, 0.8281, 0.7401, 0.8522, 0.5229, 0.6568, 0.8130,\n",
              "         0.5683],\n",
              "        [0.2289, 0.1712, 0.3612, 0.1464, 0.7911, 0.0024, 0.6774, 0.0895, 0.2222,\n",
              "         0.8120],\n",
              "        [0.7477, 0.0485, 0.8582, 0.5952, 0.8471, 0.9978, 0.2488, 0.9063, 0.1661,\n",
              "         0.0496],\n",
              "        [0.9705, 0.1274, 0.6213, 0.5124, 0.6091, 0.5419, 0.6399, 0.2869, 0.2058,\n",
              "         0.4069],\n",
              "        [0.9463, 0.7391, 0.7524, 0.4590, 0.4028, 0.5297, 0.6298, 0.5869, 0.7302,\n",
              "         0.7241],\n",
              "        [0.0765, 0.4267, 0.1232, 0.9451, 0.6692, 0.8911, 0.5560, 0.3683, 0.1493,\n",
              "         0.4585],\n",
              "        [0.6556, 0.2226, 0.4903, 0.8939, 0.0792, 0.0191, 0.4760, 0.9848, 0.7462,\n",
              "         0.4211],\n",
              "        [0.7231, 0.8501, 0.8282, 0.9105, 0.7470, 0.5307, 0.5217, 0.4709, 0.5357,\n",
              "         0.3076],\n",
              "        [0.5821, 0.0172, 0.3752, 0.7227, 0.9209, 0.7723, 0.4666, 0.4445, 0.0434,\n",
              "         0.6765]])"
            ]
          },
          "metadata": {},
          "execution_count": 19
        }
      ]
    },
    {
      "cell_type": "code",
      "source": [
        "rand_tensor.ndim\n"
      ],
      "metadata": {
        "colab": {
          "base_uri": "https://localhost:8080/"
        },
        "id": "uGDyUyavBggr",
        "outputId": "80d29cac-76de-46d8-e7ac-ba5d3f2b4274"
      },
      "execution_count": null,
      "outputs": [
        {
          "output_type": "execute_result",
          "data": {
            "text/plain": [
              "2"
            ]
          },
          "metadata": {},
          "execution_count": 20
        }
      ]
    },
    {
      "cell_type": "code",
      "source": [
        "# create random tensor with similar shape as an image\n",
        "random_image_size_tensor=torch.rand(size=(224,224,3)) #can also be (3,224,224)\n",
        "random_image_size_tensor.shape\n"
      ],
      "metadata": {
        "colab": {
          "base_uri": "https://localhost:8080/"
        },
        "id": "SQ67e9AUBg2s",
        "outputId": "01a1cb81-2e8d-4c94-df35-7a8ae7254e26"
      },
      "execution_count": null,
      "outputs": [
        {
          "output_type": "execute_result",
          "data": {
            "text/plain": [
              "torch.Size([224, 224, 3])"
            ]
          },
          "metadata": {},
          "execution_count": 21
        }
      ]
    },
    {
      "cell_type": "code",
      "source": [
        "randtensor=torch.rand(3,1,5)\n",
        "randtensor"
      ],
      "metadata": {
        "colab": {
          "base_uri": "https://localhost:8080/"
        },
        "id": "02rgLaefDMJY",
        "outputId": "ccb66255-951d-4bea-f175-e0ce2ccee22d"
      },
      "execution_count": null,
      "outputs": [
        {
          "output_type": "execute_result",
          "data": {
            "text/plain": [
              "tensor([[[0.4826, 0.2833, 0.6096, 0.5209, 0.7859]],\n",
              "\n",
              "        [[0.7711, 0.8450, 0.8194, 0.0928, 0.4919]],\n",
              "\n",
              "        [[0.5026, 0.3641, 0.5963, 0.4284, 0.3104]]])"
            ]
          },
          "metadata": {},
          "execution_count": 22
        }
      ]
    },
    {
      "cell_type": "code",
      "source": [
        "#create tensor of 0\n",
        "zero=torch.zeros(3,4) # or torch.zero(size=(3,4))\n",
        "zero\n"
      ],
      "metadata": {
        "colab": {
          "base_uri": "https://localhost:8080/"
        },
        "id": "0e4KgiIQDMha",
        "outputId": "fe0bcc79-8a69-495b-a10f-acbcf577013a"
      },
      "execution_count": null,
      "outputs": [
        {
          "output_type": "execute_result",
          "data": {
            "text/plain": [
              "tensor([[0., 0., 0., 0.],\n",
              "        [0., 0., 0., 0.],\n",
              "        [0., 0., 0., 0.]])"
            ]
          },
          "metadata": {},
          "execution_count": 23
        }
      ]
    },
    {
      "cell_type": "code",
      "source": [
        "ones=torch.ones(3,4)\n"
      ],
      "metadata": {
        "id": "qvUkgO5MEy3F"
      },
      "execution_count": null,
      "outputs": []
    },
    {
      "cell_type": "code",
      "source": [
        "ones.dtype,ones.type #datatype is float by default\n",
        "\n"
      ],
      "metadata": {
        "colab": {
          "base_uri": "https://localhost:8080/"
        },
        "id": "iG41V9EpDMux",
        "outputId": "35cb498b-bf70-4ac8-d6d5-dd4460a894b1"
      },
      "execution_count": null,
      "outputs": [
        {
          "output_type": "execute_result",
          "data": {
            "text/plain": [
              "(torch.float32, <function Tensor.type>)"
            ]
          },
          "metadata": {},
          "execution_count": 25
        }
      ]
    },
    {
      "cell_type": "markdown",
      "source": [
        "creating a range of tensors and tensors-like"
      ],
      "metadata": {
        "id": "Oc4bB1dxFKmG"
      }
    },
    {
      "cell_type": "code",
      "source": [
        "#torch.range is old. SO use torch.arange\n",
        "tensor=torch.arange(0,100,4)\n",
        "tensor\n"
      ],
      "metadata": {
        "colab": {
          "base_uri": "https://localhost:8080/"
        },
        "id": "d5sVHOlKFGP0",
        "outputId": "9a56e3a6-5962-45b7-bde6-f2c1b55540ff"
      },
      "execution_count": null,
      "outputs": [
        {
          "output_type": "execute_result",
          "data": {
            "text/plain": [
              "tensor([ 0,  4,  8, 12, 16, 20, 24, 28, 32, 36, 40, 44, 48, 52, 56, 60, 64, 68,\n",
              "        72, 76, 80, 84, 88, 92, 96])"
            ]
          },
          "metadata": {},
          "execution_count": 26
        }
      ]
    },
    {
      "cell_type": "code",
      "source": [
        "#tensors like\n",
        "zeros_like=torch.zeros_like(tensor)\n",
        "zeros_like\n"
      ],
      "metadata": {
        "colab": {
          "base_uri": "https://localhost:8080/"
        },
        "id": "HK28E_hkFHU9",
        "outputId": "e7505f23-9286-4a35-bcaa-6722ecdc1c97"
      },
      "execution_count": null,
      "outputs": [
        {
          "output_type": "execute_result",
          "data": {
            "text/plain": [
              "tensor([0, 0, 0, 0, 0, 0, 0, 0, 0, 0, 0, 0, 0, 0, 0, 0, 0, 0, 0, 0, 0, 0, 0, 0,\n",
              "        0])"
            ]
          },
          "metadata": {},
          "execution_count": 27
        }
      ]
    },
    {
      "cell_type": "markdown",
      "source": [
        "tensor datatypes\n",
        "\n",
        "Note: There can be three errors mainly in pytorch that you can get.\n",
        "1. Tensor not right datatype\n",
        "2. tensor not right shape\n",
        "3. tensor not on the right device\n"
      ],
      "metadata": {
        "id": "km6ugimbGYwg"
      }
    },
    {
      "cell_type": "code",
      "source": [
        "#tensor datatype\n",
        "\n",
        "float_32_tensor= torch.tensor([3.0,6.0,9.0],\n",
        "                              dtype=None,  #data type \n",
        "                              device=None, #can be None, \"cpu\", cuda,..\n",
        "                              requires_grad=False)# whether or not to track gradients with this tensor\n",
        "float_32_tensor\n",
        "\n"
      ],
      "metadata": {
        "colab": {
          "base_uri": "https://localhost:8080/"
        },
        "id": "EJu1P3reGRkS",
        "outputId": "a949bf69-c881-4344-d955-7bb8d8fdd03e"
      },
      "execution_count": null,
      "outputs": [
        {
          "output_type": "execute_result",
          "data": {
            "text/plain": [
              "tensor([3., 6., 9.])"
            ]
          },
          "metadata": {},
          "execution_count": 28
        }
      ]
    },
    {
      "cell_type": "code",
      "source": [
        "float_32_tensor.dtype\n",
        "\n"
      ],
      "metadata": {
        "colab": {
          "base_uri": "https://localhost:8080/"
        },
        "id": "hIeFa6WJIn_i",
        "outputId": "0b189468-3ca7-411d-f0d3-1222cd3a83df"
      },
      "execution_count": null,
      "outputs": [
        {
          "output_type": "execute_result",
          "data": {
            "text/plain": [
              "torch.float32"
            ]
          },
          "metadata": {},
          "execution_count": 29
        }
      ]
    },
    {
      "cell_type": "code",
      "source": [
        "float_16_tensor= float_32_tensor.type(torch.float16)\n",
        "float_16_tensor\n",
        "\n"
      ],
      "metadata": {
        "id": "xs-OKmQGI_9I",
        "colab": {
          "base_uri": "https://localhost:8080/"
        },
        "outputId": "81eeff34-f55a-4288-b5dd-ae86362c4095"
      },
      "execution_count": null,
      "outputs": [
        {
          "output_type": "execute_result",
          "data": {
            "text/plain": [
              "tensor([3., 6., 9.], dtype=torch.float16)"
            ]
          },
          "metadata": {},
          "execution_count": 30
        }
      ]
    },
    {
      "cell_type": "code",
      "source": [
        "float_16_tensor+float_32_tensor"
      ],
      "metadata": {
        "id": "ypH8XWRgJAYx",
        "colab": {
          "base_uri": "https://localhost:8080/"
        },
        "outputId": "feb4fd01-1eba-499e-d48f-ff73b6574b03"
      },
      "execution_count": null,
      "outputs": [
        {
          "output_type": "execute_result",
          "data": {
            "text/plain": [
              "tensor([ 6., 12., 18.])"
            ]
          },
          "metadata": {},
          "execution_count": 31
        }
      ]
    },
    {
      "cell_type": "code",
      "source": [
        "float_16_tensor*float_32_tensor\n"
      ],
      "metadata": {
        "colab": {
          "base_uri": "https://localhost:8080/"
        },
        "id": "oH1KDHQxJ18_",
        "outputId": "4e9f774b-b443-49d9-8e7c-848d054beb38"
      },
      "execution_count": null,
      "outputs": [
        {
          "output_type": "execute_result",
          "data": {
            "text/plain": [
              "tensor([ 9., 36., 81.])"
            ]
          },
          "metadata": {},
          "execution_count": 32
        }
      ]
    },
    {
      "cell_type": "code",
      "source": [
        "int_32_tensor=torch.tensor([3,6,9],dtype=torch.int32)\n",
        "int_32_tensor"
      ],
      "metadata": {
        "id": "rrdm4s4UIoWn",
        "colab": {
          "base_uri": "https://localhost:8080/"
        },
        "outputId": "89f08f81-3c73-4360-beae-827c40ef0bfb"
      },
      "execution_count": null,
      "outputs": [
        {
          "output_type": "execute_result",
          "data": {
            "text/plain": [
              "tensor([3, 6, 9], dtype=torch.int32)"
            ]
          },
          "metadata": {},
          "execution_count": 33
        }
      ]
    },
    {
      "cell_type": "code",
      "source": [
        "float_32_tensor*int_32_tensor\n"
      ],
      "metadata": {
        "colab": {
          "base_uri": "https://localhost:8080/"
        },
        "id": "J1g7PuMcK9Q6",
        "outputId": "fb600d9b-4ae4-479b-b2a8-f1f6fae6f59a"
      },
      "execution_count": null,
      "outputs": [
        {
          "output_type": "execute_result",
          "data": {
            "text/plain": [
              "tensor([ 9., 36., 81.])"
            ]
          },
          "metadata": {},
          "execution_count": 34
        }
      ]
    },
    {
      "cell_type": "markdown",
      "source": [
        "Tensor Attributes"
      ],
      "metadata": {
        "id": "Uc3ODXPKW8w8"
      }
    },
    {
      "cell_type": "code",
      "source": [
        "# creating tensor\n",
        "T=torch.rand(size=(5,2))\n",
        "\n",
        "\n"
      ],
      "metadata": {
        "id": "e2QNDHyAW6PL"
      },
      "execution_count": null,
      "outputs": []
    },
    {
      "cell_type": "code",
      "source": [
        "# find out details about some tensor\n",
        "print(T)\n",
        "\n",
        "print(f\"Datatype of tensor: {T.dtype}\")\n",
        "print(f\"size or shape of tensor: {T.shape}\") # can also use T.size()\n",
        "print(f\"device of tensor: {T.device}\")\n",
        "print(f\"type of tensor: {T.type}\") \n"
      ],
      "metadata": {
        "id": "-fIYC3hSLFaO",
        "colab": {
          "base_uri": "https://localhost:8080/"
        },
        "outputId": "4d42e67c-3da0-4c95-d4bb-7b8a4dab3579"
      },
      "execution_count": null,
      "outputs": [
        {
          "output_type": "stream",
          "name": "stdout",
          "text": [
            "tensor([[0.5767, 0.5070],\n",
            "        [0.5892, 0.3198],\n",
            "        [0.6137, 0.0434],\n",
            "        [0.8591, 0.3192],\n",
            "        [0.6183, 0.3259]])\n",
            "Datatype of tensor: torch.float32\n",
            "size or shape of tensor: torch.Size([5, 2])\n",
            "device of tensor: cpu\n",
            "type of tensor: <built-in method type of Tensor object at 0x7fa9c912a840>\n"
          ]
        }
      ]
    },
    {
      "cell_type": "markdown",
      "source": [
        "Manipulating Tensors (tensor operations)\n",
        "tensor operations\n",
        "\n",
        "\n",
        "*  Addition\n",
        "*  Subtraction\n",
        "*  Multiplication(element wise)\n",
        "*  Division \n",
        "*  Matrix multiplication\n"
      ],
      "metadata": {
        "id": "-vHXnjonavxh"
      }
    },
    {
      "cell_type": "code",
      "source": [
        "# create tensor\n",
        "tensor=torch.tensor([1,2,3])\n",
        "tensor+10\n"
      ],
      "metadata": {
        "id": "mNBm9ekMIora",
        "colab": {
          "base_uri": "https://localhost:8080/"
        },
        "outputId": "897f57b9-1076-4f8f-b9ec-8184cdfe1c47"
      },
      "execution_count": null,
      "outputs": [
        {
          "output_type": "execute_result",
          "data": {
            "text/plain": [
              "tensor([11, 12, 13])"
            ]
          },
          "metadata": {},
          "execution_count": 37
        }
      ]
    },
    {
      "cell_type": "code",
      "source": [
        "#multiplying tensor\n",
        "tensor*4\n"
      ],
      "metadata": {
        "colab": {
          "base_uri": "https://localhost:8080/"
        },
        "id": "W0WYiUBlbmu3",
        "outputId": "3d6904e8-246b-40f0-98df-9ed9e562fc11"
      },
      "execution_count": null,
      "outputs": [
        {
          "output_type": "execute_result",
          "data": {
            "text/plain": [
              "tensor([ 4,  8, 12])"
            ]
          },
          "metadata": {},
          "execution_count": 38
        }
      ]
    },
    {
      "cell_type": "code",
      "source": [
        "#divide\n",
        "tensor/10\n"
      ],
      "metadata": {
        "colab": {
          "base_uri": "https://localhost:8080/"
        },
        "id": "K5dsCSi7b05Y",
        "outputId": "a402f202-bc32-43f0-fe4c-42f44f7a2da0"
      },
      "execution_count": null,
      "outputs": [
        {
          "output_type": "execute_result",
          "data": {
            "text/plain": [
              "tensor([0.1000, 0.2000, 0.3000])"
            ]
          },
          "metadata": {},
          "execution_count": 39
        }
      ]
    },
    {
      "cell_type": "code",
      "source": [
        "#subtraction\n",
        "tensor=tensor-10\n",
        "tensor\n",
        "\n",
        "tensor+10\n",
        "\n"
      ],
      "metadata": {
        "colab": {
          "base_uri": "https://localhost:8080/"
        },
        "id": "s-xL0Z_kb7fv",
        "outputId": "3eb9d023-edda-43bd-baa2-37fd2b26258e"
      },
      "execution_count": null,
      "outputs": [
        {
          "output_type": "execute_result",
          "data": {
            "text/plain": [
              "tensor([1, 2, 3])"
            ]
          },
          "metadata": {},
          "execution_count": 40
        }
      ]
    },
    {
      "cell_type": "code",
      "source": [
        "#tensor operation with functions (not recommended generally)\n",
        "\n",
        "print(torch.mul(tensor,10))\n",
        "print(torch.add(tensor,10))\n",
        "\n"
      ],
      "metadata": {
        "colab": {
          "base_uri": "https://localhost:8080/"
        },
        "id": "uejjQgyEcGZG",
        "outputId": "0e9dbf04-643e-44c8-f80c-5ec0ba249101"
      },
      "execution_count": null,
      "outputs": [
        {
          "output_type": "stream",
          "name": "stdout",
          "text": [
            "tensor([-90, -80, -70])\n",
            "tensor([1, 2, 3])\n"
          ]
        }
      ]
    },
    {
      "cell_type": "code",
      "source": [
        "#element wise multiplication\n",
        "print(tensor*tensor)\n"
      ],
      "metadata": {
        "colab": {
          "base_uri": "https://localhost:8080/"
        },
        "id": "sB193P6bcmtL",
        "outputId": "39658b1b-0ed8-4b76-cd64-b35722b96d09"
      },
      "execution_count": null,
      "outputs": [
        {
          "output_type": "stream",
          "name": "stdout",
          "text": [
            "tensor([81, 64, 49])\n"
          ]
        }
      ]
    },
    {
      "cell_type": "code",
      "source": [
        "%%time\n",
        "#matrix multiplication-use this function for fast calculation\n",
        "# it is optimised. time is generally of ms order for python. \n",
        "# so it is very fast.\n",
        "torch.matmul(tensor,tensor)\n"
      ],
      "metadata": {
        "colab": {
          "base_uri": "https://localhost:8080/"
        },
        "id": "QGqyWpPCddSd",
        "outputId": "8b8c2b70-62d9-45d8-afbb-55d9eea173cb"
      },
      "execution_count": null,
      "outputs": [
        {
          "output_type": "stream",
          "name": "stdout",
          "text": [
            "CPU times: user 1.63 ms, sys: 102 µs, total: 1.73 ms\n",
            "Wall time: 1.96 ms\n"
          ]
        },
        {
          "output_type": "execute_result",
          "data": {
            "text/plain": [
              "tensor(194)"
            ]
          },
          "metadata": {},
          "execution_count": 43
        }
      ]
    },
    {
      "cell_type": "code",
      "source": [
        "%%time\n",
        "\n",
        "tensor@tensor # @ is operator for matrix mult\n",
        "# slower and not understandable easily"
      ],
      "metadata": {
        "colab": {
          "base_uri": "https://localhost:8080/"
        },
        "id": "gatxDBQBhKq3",
        "outputId": "5c85e7d4-d1cd-4e11-f487-87658d2596f8"
      },
      "execution_count": null,
      "outputs": [
        {
          "output_type": "stream",
          "name": "stdout",
          "text": [
            "CPU times: user 44 µs, sys: 8 µs, total: 52 µs\n",
            "Wall time: 55.3 µs\n"
          ]
        },
        {
          "output_type": "execute_result",
          "data": {
            "text/plain": [
              "tensor(194)"
            ]
          },
          "metadata": {},
          "execution_count": 44
        }
      ]
    },
    {
      "cell_type": "markdown",
      "source": [
        "One of the most common deep learning errors are shape errors.\n",
        "\n",
        "#The inner dimensions must match\n",
        "#The result has the shape of outer dimensions\n",
        " @ is symbol for matrix multiplication.\n",
        " Dont use it as it is slower and not as clear as matmul\n"
      ],
      "metadata": {
        "id": "ARjws8IifPrw"
      }
    },
    {
      "cell_type": "code",
      "source": [
        "# this will give error as inner dimensions dont match\n",
        "# try it\n",
        "#torch.matmul(torch.rand(2,3),torch.rand(2,3))\n"
      ],
      "metadata": {
        "id": "VV79BXUCgDgj"
      },
      "execution_count": null,
      "outputs": []
    },
    {
      "cell_type": "code",
      "source": [
        "tensor1=torch.rand(2,3)\n",
        "tensor2=torch.rand(3,2)\n",
        "print(\"tensor1=\",tensor1)\n",
        "print(\"tensor2=\",tensor2)\n",
        "\n",
        "torch.matmul(tensor1,tensor2)\n",
        "\n"
      ],
      "metadata": {
        "colab": {
          "base_uri": "https://localhost:8080/"
        },
        "id": "fwC8WW9bgUya",
        "outputId": "7096ef28-34a2-4fed-d7c5-682b5c218968"
      },
      "execution_count": null,
      "outputs": [
        {
          "output_type": "stream",
          "name": "stdout",
          "text": [
            "tensor1= tensor([[0.5288, 0.2456, 0.9860],\n",
            "        [0.0345, 0.2745, 0.6572]])\n",
            "tensor2= tensor([[0.5377, 0.8943],\n",
            "        [0.4376, 0.1805],\n",
            "        [0.6356, 0.4037]])\n"
          ]
        },
        {
          "output_type": "execute_result",
          "data": {
            "text/plain": [
              "tensor([[1.0185, 0.9153],\n",
              "        [0.5563, 0.3457]])"
            ]
          },
          "metadata": {},
          "execution_count": 46
        }
      ]
    },
    {
      "cell_type": "code",
      "source": [
        "tensor1 = torch.rand(2,3)\n",
        "tensor2=torch.rand(2,3)\n",
        "\n",
        "#torch.mm(tensor1,tensor2) gives a short for torch.matmul()\n",
        "\n",
        "#torch.mm(tensor1,tensor2) gives error due to shape error\n",
        "\n",
        "torch.mm(tensor1,tensor2.T),torch.mm(tensor1,tensor2.T).shape\n",
        " # transposing tensor2\n"
      ],
      "metadata": {
        "colab": {
          "base_uri": "https://localhost:8080/"
        },
        "id": "p-6fbAmjhvVy",
        "outputId": "c3f6efb4-91b6-4ab2-8e7a-10986815d3f1"
      },
      "execution_count": null,
      "outputs": [
        {
          "output_type": "execute_result",
          "data": {
            "text/plain": [
              "(tensor([[0.3133, 0.9283],\n",
              "         [0.2240, 0.6800]]),\n",
              " torch.Size([2, 2]))"
            ]
          },
          "metadata": {},
          "execution_count": 47
        }
      ]
    },
    {
      "cell_type": "markdown",
      "source": [
        "Finding the min,max,mean,sum,etc (called tensor aggregation)"
      ],
      "metadata": {
        "id": "SX9L6n6TmJ3m"
      }
    },
    {
      "cell_type": "code",
      "source": [
        "x=torch.arange(0,100,4)\n",
        "tensor\n"
      ],
      "metadata": {
        "colab": {
          "base_uri": "https://localhost:8080/"
        },
        "id": "lpuWR0eElOgS",
        "outputId": "ddf0f3fc-597a-4d58-d63d-0f231bf84b6b"
      },
      "execution_count": null,
      "outputs": [
        {
          "output_type": "execute_result",
          "data": {
            "text/plain": [
              "tensor([-9, -8, -7])"
            ]
          },
          "metadata": {},
          "execution_count": 48
        }
      ]
    },
    {
      "cell_type": "code",
      "source": [
        "#find min and max\n",
        "torch.min(x),torch.max(x)\n"
      ],
      "metadata": {
        "colab": {
          "base_uri": "https://localhost:8080/"
        },
        "id": "kyFZH1swmbOe",
        "outputId": "045cb459-79b9-453f-ee25-a432883d0496"
      },
      "execution_count": null,
      "outputs": [
        {
          "output_type": "execute_result",
          "data": {
            "text/plain": [
              "(tensor(0), tensor(96))"
            ]
          },
          "metadata": {},
          "execution_count": 49
        }
      ]
    },
    {
      "cell_type": "code",
      "source": [
        "#find mean-torch.mean() requires a tensor of float32 datatype to work\n",
        "\n",
        "torch.mean(x.type(torch.float32))\n",
        "\n"
      ],
      "metadata": {
        "colab": {
          "base_uri": "https://localhost:8080/"
        },
        "id": "fvlxjppQmmlC",
        "outputId": "5037ca82-20e0-45a5-9bc0-94e4357d854d"
      },
      "execution_count": null,
      "outputs": [
        {
          "output_type": "execute_result",
          "data": {
            "text/plain": [
              "tensor(48.)"
            ]
          },
          "metadata": {},
          "execution_count": 50
        }
      ]
    },
    {
      "cell_type": "code",
      "source": [
        "#find the sum\n",
        "\n",
        "torch.sum(x)\n"
      ],
      "metadata": {
        "colab": {
          "base_uri": "https://localhost:8080/"
        },
        "id": "MBNqkk0onZAW",
        "outputId": "146814ca-f62e-4952-d40e-19e86526f7a9"
      },
      "execution_count": null,
      "outputs": [
        {
          "output_type": "execute_result",
          "data": {
            "text/plain": [
              "tensor(1200)"
            ]
          },
          "metadata": {},
          "execution_count": 51
        }
      ]
    },
    {
      "cell_type": "code",
      "source": [
        "# find posiion of element of tensor with minimium value\n",
        "\n",
        "x.argmin(),x[0]"
      ],
      "metadata": {
        "colab": {
          "base_uri": "https://localhost:8080/"
        },
        "id": "dU30jA5zdfwR",
        "outputId": "5d2a5134-32d8-49bd-eed2-21a7664dee21"
      },
      "execution_count": null,
      "outputs": [
        {
          "output_type": "execute_result",
          "data": {
            "text/plain": [
              "(tensor(0), tensor(0))"
            ]
          },
          "metadata": {},
          "execution_count": 53
        }
      ]
    },
    {
      "cell_type": "code",
      "source": [
        "#finding the position in tensor that has the maximum value with argmax()\n",
        "\n",
        "x.argmax(),x[24]\n"
      ],
      "metadata": {
        "colab": {
          "base_uri": "https://localhost:8080/"
        },
        "id": "C3a8ws1tdn1c",
        "outputId": "49af95ad-f808-44fc-d313-27abd25a731b"
      },
      "execution_count": null,
      "outputs": [
        {
          "output_type": "execute_result",
          "data": {
            "text/plain": [
              "(tensor(24), tensor(96))"
            ]
          },
          "metadata": {},
          "execution_count": 55
        }
      ]
    },
    {
      "cell_type": "markdown",
      "source": [
        "#reshaping ,stacking, squeezing and unsqueezing\n",
        "\n",
        "*reshaping-reshapes an input tensor to a defined shape\n",
        "*View -Return a view of an input tensor of certain shape but keeps the memory intact\n",
        "stacking-combine multiple tensors on top of each other (vstack-vertical stack) or side by side (hstack-horizontal stack)\n",
        "* squeeze -removes all '1' dimensions from a  tensor\n",
        "*unsqueeze-add a 1 dimension to a target tensor\n",
        "*permute -return a view of the input with dimensions permuted (give a permutation) in a certain way\n",
        "\n",
        "\n",
        "\n"
      ],
      "metadata": {
        "id": "-UvP0-qRe-lN"
      }
    },
    {
      "cell_type": "code",
      "source": [
        "x=torch.arange(1.,10.)\n",
        "x,x.shape\n",
        "\n",
        "\n",
        "\n"
      ],
      "metadata": {
        "colab": {
          "base_uri": "https://localhost:8080/"
        },
        "id": "l_xVxBwXe0d2",
        "outputId": "5d2093e6-6239-41fe-9806-0d169a30db0f"
      },
      "execution_count": null,
      "outputs": [
        {
          "output_type": "execute_result",
          "data": {
            "text/plain": [
              "(tensor([1., 2., 3., 4., 5., 6., 7., 8., 9.]), torch.Size([9]))"
            ]
          },
          "metadata": {},
          "execution_count": 76
        }
      ]
    },
    {
      "cell_type": "code",
      "source": [
        "# adding an extra dimension\n",
        "x_reshaped=x.reshape(9,1) #9*1=1*9\n",
        "x_reshaped,x_reshaped.shape"
      ],
      "metadata": {
        "colab": {
          "base_uri": "https://localhost:8080/"
        },
        "id": "OF01-eyUhARk",
        "outputId": "23330846-c5ac-4871-9f1c-9125fcf31f8f"
      },
      "execution_count": null,
      "outputs": [
        {
          "output_type": "execute_result",
          "data": {
            "text/plain": [
              "(tensor([[1.],\n",
              "         [2.],\n",
              "         [3.],\n",
              "         [4.],\n",
              "         [5.],\n",
              "         [6.],\n",
              "         [7.],\n",
              "         [8.],\n",
              "         [9.]]),\n",
              " torch.Size([9, 1]))"
            ]
          },
          "metadata": {},
          "execution_count": 60
        }
      ]
    },
    {
      "cell_type": "code",
      "source": [
        "x_reshaped=x.reshape(3,3)  #3*3=1*9\n",
        "x_reshaped,x_reshaped.shape\n"
      ],
      "metadata": {
        "colab": {
          "base_uri": "https://localhost:8080/"
        },
        "id": "zNcOC07Me0-m",
        "outputId": "7e843034-a823-4888-fdee-677bd5f3fb83"
      },
      "execution_count": null,
      "outputs": [
        {
          "output_type": "execute_result",
          "data": {
            "text/plain": [
              "(tensor([[1., 2., 3.],\n",
              "         [4., 5., 6.],\n",
              "         [7., 8., 9.]]),\n",
              " torch.Size([3, 3]))"
            ]
          },
          "metadata": {},
          "execution_count": 61
        }
      ]
    },
    {
      "cell_type": "code",
      "source": [
        "x_reshaped=x.reshape(3,4)  #3*4>1*9\n",
        "\n",
        "x_reshaped,x_reshaped.shape"
      ],
      "metadata": {
        "colab": {
          "base_uri": "https://localhost:8080/",
          "height": 205
        },
        "id": "ytgoQ3QPh027",
        "outputId": "f83a91d5-5311-47df-c882-5c52c92dc95b"
      },
      "execution_count": null,
      "outputs": [
        {
          "output_type": "error",
          "ename": "RuntimeError",
          "evalue": "ignored",
          "traceback": [
            "\u001b[0;31m---------------------------------------------------------------------------\u001b[0m",
            "\u001b[0;31mRuntimeError\u001b[0m                              Traceback (most recent call last)",
            "\u001b[0;32m<ipython-input-63-f92b8601b41c>\u001b[0m in \u001b[0;36m<cell line: 1>\u001b[0;34m()\u001b[0m\n\u001b[0;32m----> 1\u001b[0;31m \u001b[0mx_reshaped\u001b[0m\u001b[0;34m=\u001b[0m\u001b[0mx\u001b[0m\u001b[0;34m.\u001b[0m\u001b[0mreshape\u001b[0m\u001b[0;34m(\u001b[0m\u001b[0;36m3\u001b[0m\u001b[0;34m,\u001b[0m\u001b[0;36m4\u001b[0m\u001b[0;34m)\u001b[0m  \u001b[0;31m#3*4>1*9\u001b[0m\u001b[0;34m\u001b[0m\u001b[0;34m\u001b[0m\u001b[0m\n\u001b[0m\u001b[1;32m      2\u001b[0m \u001b[0;34m\u001b[0m\u001b[0m\n\u001b[1;32m      3\u001b[0m \u001b[0mx_reshaped\u001b[0m\u001b[0;34m,\u001b[0m\u001b[0mx_reshaped\u001b[0m\u001b[0;34m.\u001b[0m\u001b[0mshape\u001b[0m\u001b[0;34m\u001b[0m\u001b[0;34m\u001b[0m\u001b[0m\n",
            "\u001b[0;31mRuntimeError\u001b[0m: shape '[3, 4]' is invalid for input of size 9"
          ]
        }
      ]
    },
    {
      "cell_type": "code",
      "source": [
        "x_reshaped=x.reshape(3,2) #3*2<1*9\n",
        "x_reshaped,x_reshaped.shape\n"
      ],
      "metadata": {
        "colab": {
          "base_uri": "https://localhost:8080/",
          "height": 187
        },
        "id": "2S9UvpJ_iPYC",
        "outputId": "fed15f32-0daf-408c-d42c-d644f7702c97"
      },
      "execution_count": null,
      "outputs": [
        {
          "output_type": "error",
          "ename": "RuntimeError",
          "evalue": "ignored",
          "traceback": [
            "\u001b[0;31m---------------------------------------------------------------------------\u001b[0m",
            "\u001b[0;31mRuntimeError\u001b[0m                              Traceback (most recent call last)",
            "\u001b[0;32m<ipython-input-64-2bb89b575ae2>\u001b[0m in \u001b[0;36m<cell line: 1>\u001b[0;34m()\u001b[0m\n\u001b[0;32m----> 1\u001b[0;31m \u001b[0mx_reshaped\u001b[0m\u001b[0;34m=\u001b[0m\u001b[0mx\u001b[0m\u001b[0;34m.\u001b[0m\u001b[0mreshape\u001b[0m\u001b[0;34m(\u001b[0m\u001b[0;36m3\u001b[0m\u001b[0;34m,\u001b[0m\u001b[0;36m2\u001b[0m\u001b[0;34m)\u001b[0m\u001b[0;34m\u001b[0m\u001b[0;34m\u001b[0m\u001b[0m\n\u001b[0m\u001b[1;32m      2\u001b[0m \u001b[0mx_reshaped\u001b[0m\u001b[0;34m,\u001b[0m\u001b[0mx_reshaped\u001b[0m\u001b[0;34m.\u001b[0m\u001b[0mshape\u001b[0m\u001b[0;34m\u001b[0m\u001b[0;34m\u001b[0m\u001b[0m\n",
            "\u001b[0;31mRuntimeError\u001b[0m: shape '[3, 2]' is invalid for input of size 9"
          ]
        }
      ]
    },
    {
      "cell_type": "code",
      "source": [
        "#change the view\n",
        "z=x.view(1,9)\n",
        "z,z.shape\n",
        "\n"
      ],
      "metadata": {
        "colab": {
          "base_uri": "https://localhost:8080/"
        },
        "id": "WzLfte5Yifr_",
        "outputId": "3f2ab50c-5499-4a59-f0cb-d90857fe613e"
      },
      "execution_count": null,
      "outputs": [
        {
          "output_type": "execute_result",
          "data": {
            "text/plain": [
              "(tensor([[1., 2., 3., 4., 5., 6., 7., 8., 9.]]), torch.Size([1, 9]))"
            ]
          },
          "metadata": {},
          "execution_count": 77
        }
      ]
    },
    {
      "cell_type": "code",
      "source": [
        "#changing z changes x also as z points to the same memory as x\n",
        "z[0,3:]=2\n",
        "z,x\n"
      ],
      "metadata": {
        "colab": {
          "base_uri": "https://localhost:8080/"
        },
        "id": "ZbFpqQqYjXw_",
        "outputId": "cdbd02fd-f583-4f51-d35a-be47afe1e4eb"
      },
      "execution_count": null,
      "outputs": [
        {
          "output_type": "execute_result",
          "data": {
            "text/plain": [
              "(tensor([[1., 2., 3., 2., 2., 2., 2., 2., 2.]]),\n",
              " tensor([1., 2., 3., 2., 2., 2., 2., 2., 2.]))"
            ]
          },
          "metadata": {},
          "execution_count": 78
        }
      ]
    },
    {
      "cell_type": "code",
      "source": [
        "#stacking tensors on the top of each other\n",
        "x_stacked=torch.stack([x,x,x,x,x],dim=0)\n",
        "x_stacked"
      ],
      "metadata": {
        "colab": {
          "base_uri": "https://localhost:8080/"
        },
        "id": "-8GJp6Nfjlfl",
        "outputId": "7d207c28-607e-44b0-d533-0092a8542aa3"
      },
      "execution_count": null,
      "outputs": [
        {
          "output_type": "execute_result",
          "data": {
            "text/plain": [
              "tensor([[1., 2., 3., 2., 2., 2., 2., 2., 2.],\n",
              "        [1., 2., 3., 2., 2., 2., 2., 2., 2.],\n",
              "        [1., 2., 3., 2., 2., 2., 2., 2., 2.],\n",
              "        [1., 2., 3., 2., 2., 2., 2., 2., 2.],\n",
              "        [1., 2., 3., 2., 2., 2., 2., 2., 2.]])"
            ]
          },
          "metadata": {},
          "execution_count": 80
        }
      ]
    },
    {
      "cell_type": "code",
      "source": [
        "a=torch.tensor([1,2,3])\n",
        "b=torch.tensor([4,5,6])\n",
        "torch.hstack((a,b)),torch.vstack((a,b))\n",
        "\n"
      ],
      "metadata": {
        "colab": {
          "base_uri": "https://localhost:8080/"
        },
        "id": "QIMbKaXouFpf",
        "outputId": "78a82ad8-0ca6-4897-97f3-850cdc14897b"
      },
      "execution_count": null,
      "outputs": [
        {
          "output_type": "execute_result",
          "data": {
            "text/plain": [
              "(tensor([1, 2, 3, 4, 5, 6]),\n",
              " tensor([[1, 2, 3],\n",
              "         [4, 5, 6]]))"
            ]
          },
          "metadata": {},
          "execution_count": 84
        }
      ]
    },
    {
      "cell_type": "code",
      "source": [
        "a=torch.tensor([[1],[2],[3]])\n",
        "b=torch.tensor([[4],[5],[6]])\n",
        "torch.hstack((a,b)),torch.vstack((a,b))\n",
        "\n",
        "\n"
      ],
      "metadata": {
        "colab": {
          "base_uri": "https://localhost:8080/"
        },
        "id": "juRUWq4lvg4n",
        "outputId": "8fdbf30c-bf50-433d-d017-59755f54d867"
      },
      "execution_count": null,
      "outputs": [
        {
          "output_type": "execute_result",
          "data": {
            "text/plain": [
              "(tensor([[1, 4],\n",
              "         [2, 5],\n",
              "         [3, 6]]),\n",
              " tensor([[1],\n",
              "         [2],\n",
              "         [3],\n",
              "         [4],\n",
              "         [5],\n",
              "         [6]]))"
            ]
          },
          "metadata": {},
          "execution_count": 85
        }
      ]
    },
    {
      "cell_type": "code",
      "source": [
        "#torch.squeeze()-removes all single dimensions from the target tensor\n",
        "x=x.reshape((1,1,9))\n",
        "print(x,x.shape)\n",
        "\n",
        "x=x.squeeze()\n",
        "\n",
        "print(x,x.shape)\n",
        "\n",
        "\n"
      ],
      "metadata": {
        "colab": {
          "base_uri": "https://localhost:8080/"
        },
        "id": "LcNJMytJwEGN",
        "outputId": "d29a1371-9cf9-49d5-df16-67af4fbdb29f"
      },
      "execution_count": null,
      "outputs": [
        {
          "output_type": "stream",
          "name": "stdout",
          "text": [
            "tensor([[[1., 2., 3., 2., 2., 2., 2., 2., 2.]]]) torch.Size([1, 1, 9])\n",
            "tensor([1., 2., 3., 2., 2., 2., 2., 2., 2.]) torch.Size([9])\n"
          ]
        }
      ]
    },
    {
      "cell_type": "code",
      "source": [
        "x=x.reshape((3,1,3))\n",
        "print(x,x.shape)\n",
        "\n",
        "x=x.squeeze()\n",
        "\n",
        "print(x,x.shape)\n",
        "\n",
        "\n"
      ],
      "metadata": {
        "colab": {
          "base_uri": "https://localhost:8080/"
        },
        "id": "e9SEfrE1yfZ7",
        "outputId": "b6573bb7-a199-4cb0-8fcd-07bae49d09b3"
      },
      "execution_count": null,
      "outputs": [
        {
          "output_type": "stream",
          "name": "stdout",
          "text": [
            "tensor([[[1., 2., 3.]],\n",
            "\n",
            "        [[2., 2., 2.]],\n",
            "\n",
            "        [[2., 2., 2.]]]) torch.Size([3, 1, 3])\n",
            "tensor([[1., 2., 3.],\n",
            "        [2., 2., 2.],\n",
            "        [2., 2., 2.]]) torch.Size([3, 3])\n"
          ]
        }
      ]
    },
    {
      "cell_type": "code",
      "source": [
        "\n",
        "#torch.unsqueeze()-adds a single dimension to a target at a specific dim (dimension)\n",
        "print(f\"previous target: {x}\")\n",
        "print(f\"previous shape: {x.shape}\")\n",
        "\n",
        "#below, dim must not be more than 2 as there are 2 dimensions already.\n",
        "# and we can add only one dimension when we unqueeze\n",
        "\n",
        "print(f\"\\nafter unsqueezing: {x.unsqueeze(dim=1)}\") \n",
        "print(f\"after unsqueezing shape:{x.unsqueeze(dim=1).shape}\")\n"
      ],
      "metadata": {
        "colab": {
          "base_uri": "https://localhost:8080/"
        },
        "id": "K60Xa1esykNV",
        "outputId": "76cc227c-fdcc-447e-fb32-dbcc2d135810"
      },
      "execution_count": null,
      "outputs": [
        {
          "output_type": "stream",
          "name": "stdout",
          "text": [
            "previous target: tensor([[1., 2., 3.],\n",
            "        [2., 2., 2.],\n",
            "        [2., 2., 2.]])\n",
            "previous shape: torch.Size([3, 3])\n",
            "\n",
            "after unsqueezing: tensor([[[1., 2., 3.]],\n",
            "\n",
            "        [[2., 2., 2.]],\n",
            "\n",
            "        [[2., 2., 2.]]])\n",
            "after unsqueezing shape:torch.Size([3, 1, 3])\n"
          ]
        }
      ]
    },
    {
      "cell_type": "code",
      "source": [
        "#torch.permute-rearrange the dimensions of a target tenosr in a specified order\n",
        "x_original=torch.rand(size=(224,224,3)) \n",
        "#permuting the "
      ],
      "metadata": {
        "id": "bXWzYANLymiJ"
      },
      "execution_count": null,
      "outputs": []
    }
  ]
}