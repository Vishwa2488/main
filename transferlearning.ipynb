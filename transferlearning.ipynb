{
  "nbformat": 4,
  "nbformat_minor": 0,
  "metadata": {
    "colab": {
      "provenance": [],
      "gpuType": "T4",
      "authorship_tag": "ABX9TyOChLSrR+6TColqbWyN7lot",
      "include_colab_link": true
    },
    "kernelspec": {
      "name": "python3",
      "display_name": "Python 3"
    },
    "language_info": {
      "name": "python"
    },
    "accelerator": "GPU"
  },
  "cells": [
    {
      "cell_type": "markdown",
      "metadata": {
        "id": "view-in-github",
        "colab_type": "text"
      },
      "source": [
        "<a href=\"https://colab.research.google.com/github/Vishwa2488/main/blob/main/transferlearning.ipynb\" target=\"_parent\"><img src=\"https://colab.research.google.com/assets/colab-badge.svg\" alt=\"Open In Colab\"/></a>"
      ]
    },
    {
      "cell_type": "code",
      "source": [
        "!pip install tqdm\n",
        "!pip install torchmetrics\n",
        "\n"
      ],
      "metadata": {
        "colab": {
          "base_uri": "https://localhost:8080/"
        },
        "id": "0wTLC0I_PXBr",
        "outputId": "d0fc7c0e-9710-41de-be0c-1f9282c3bcde"
      },
      "execution_count": 1,
      "outputs": [
        {
          "output_type": "stream",
          "name": "stdout",
          "text": [
            "Requirement already satisfied: tqdm in /usr/local/lib/python3.10/dist-packages (4.66.1)\n",
            "Collecting torchmetrics\n",
            "  Downloading torchmetrics-1.2.0-py3-none-any.whl (805 kB)\n",
            "\u001b[2K     \u001b[90m━━━━━━━━━━━━━━━━━━━━━━━━━━━━━━━━━━━━━━━━\u001b[0m \u001b[32m805.2/805.2 kB\u001b[0m \u001b[31m8.7 MB/s\u001b[0m eta \u001b[36m0:00:00\u001b[0m\n",
            "\u001b[?25hRequirement already satisfied: numpy>1.20.0 in /usr/local/lib/python3.10/dist-packages (from torchmetrics) (1.23.5)\n",
            "Requirement already satisfied: torch>=1.8.1 in /usr/local/lib/python3.10/dist-packages (from torchmetrics) (2.1.0+cu118)\n",
            "Collecting lightning-utilities>=0.8.0 (from torchmetrics)\n",
            "  Downloading lightning_utilities-0.9.0-py3-none-any.whl (23 kB)\n",
            "Requirement already satisfied: packaging>=17.1 in /usr/local/lib/python3.10/dist-packages (from lightning-utilities>=0.8.0->torchmetrics) (23.2)\n",
            "Requirement already satisfied: typing-extensions in /usr/local/lib/python3.10/dist-packages (from lightning-utilities>=0.8.0->torchmetrics) (4.5.0)\n",
            "Requirement already satisfied: filelock in /usr/local/lib/python3.10/dist-packages (from torch>=1.8.1->torchmetrics) (3.13.1)\n",
            "Requirement already satisfied: sympy in /usr/local/lib/python3.10/dist-packages (from torch>=1.8.1->torchmetrics) (1.12)\n",
            "Requirement already satisfied: networkx in /usr/local/lib/python3.10/dist-packages (from torch>=1.8.1->torchmetrics) (3.2.1)\n",
            "Requirement already satisfied: jinja2 in /usr/local/lib/python3.10/dist-packages (from torch>=1.8.1->torchmetrics) (3.1.2)\n",
            "Requirement already satisfied: fsspec in /usr/local/lib/python3.10/dist-packages (from torch>=1.8.1->torchmetrics) (2023.6.0)\n",
            "Requirement already satisfied: triton==2.1.0 in /usr/local/lib/python3.10/dist-packages (from torch>=1.8.1->torchmetrics) (2.1.0)\n",
            "Requirement already satisfied: MarkupSafe>=2.0 in /usr/local/lib/python3.10/dist-packages (from jinja2->torch>=1.8.1->torchmetrics) (2.1.3)\n",
            "Requirement already satisfied: mpmath>=0.19 in /usr/local/lib/python3.10/dist-packages (from sympy->torch>=1.8.1->torchmetrics) (1.3.0)\n",
            "Installing collected packages: lightning-utilities, torchmetrics\n",
            "Successfully installed lightning-utilities-0.9.0 torchmetrics-1.2.0\n"
          ]
        }
      ]
    },
    {
      "cell_type": "code",
      "execution_count": 2,
      "metadata": {
        "id": "SArp6a4MAYFZ"
      },
      "outputs": [],
      "source": [
        "import torch\n",
        "\n",
        "import torchmetrics\n",
        "from tqdm import tqdm\n",
        "\n",
        "from torch import nn\n",
        "import numpy as np\n",
        "import matplotlib.pyplot as plt\n",
        "import torchvision\n",
        "\n",
        "\n",
        "device = 'cuda:0'\n",
        "\n",
        "torch.cuda.set_device(device)"
      ]
    },
    {
      "cell_type": "code",
      "source": [
        "batch_size = 32\n",
        "\n",
        "train_set = torchvision.datasets.CIFAR10(root = './data',\n",
        "                                         train = True,\n",
        "                                         download = True,\n",
        "                                         transform = torchvision.transforms.ToTensor(),\n",
        "                                         target_transform = None\n",
        "\n",
        "                                         )\n",
        "\n",
        "\n",
        "test_set = torchvision.datasets.CIFAR10(root = './data',\n",
        "                                        train = False,\n",
        "                                        download = True,\n",
        "                                        transform = torchvision.transforms.ToTensor(),\n",
        "                                        target_transform = None\n",
        "                                        )\n",
        "\n",
        "\n",
        "\n",
        "\n",
        "\n",
        "\n"
      ],
      "metadata": {
        "colab": {
          "base_uri": "https://localhost:8080/"
        },
        "id": "coQrJ0aR0sb2",
        "outputId": "7fa5f3c4-984d-4a16-a754-240bf0dff9f2"
      },
      "execution_count": 3,
      "outputs": [
        {
          "output_type": "stream",
          "name": "stdout",
          "text": [
            "Downloading https://www.cs.toronto.edu/~kriz/cifar-10-python.tar.gz to ./data/cifar-10-python.tar.gz\n"
          ]
        },
        {
          "output_type": "stream",
          "name": "stderr",
          "text": [
            "100%|██████████| 170498071/170498071 [00:01<00:00, 94313057.41it/s] \n"
          ]
        },
        {
          "output_type": "stream",
          "name": "stdout",
          "text": [
            "Extracting ./data/cifar-10-python.tar.gz to ./data\n",
            "Files already downloaded and verified\n"
          ]
        }
      ]
    },
    {
      "cell_type": "code",
      "source": [
        "dict1 = train_set.class_to_idx\n",
        "\n",
        "print(dict1)\n",
        "map1 ={}\n",
        "for key1 in dict1:\n",
        "    map1[dict1[key1]] = key1"
      ],
      "metadata": {
        "id": "4obtsOo_Fb-L",
        "colab": {
          "base_uri": "https://localhost:8080/"
        },
        "outputId": "96658ba3-3e63-4b35-bbac-03843bdf74af"
      },
      "execution_count": 4,
      "outputs": [
        {
          "output_type": "stream",
          "name": "stdout",
          "text": [
            "{'airplane': 0, 'automobile': 1, 'bird': 2, 'cat': 3, 'deer': 4, 'dog': 5, 'frog': 6, 'horse': 7, 'ship': 8, 'truck': 9}\n"
          ]
        }
      ]
    },
    {
      "cell_type": "code",
      "source": [
        "\n",
        "\n",
        "train_data = train_set.data.reshape((50000,3,32,32))\n",
        "test_data = test_set.data.reshape((10000,3,32,32))\n",
        "\n",
        "train_data.shape\n",
        "\n",
        "\n",
        "\n",
        "\n",
        "tensor1 = torch.randint(low = 0,high = 50000,size =(4,4))\n",
        "\n",
        "f, axarr = plt.subplots(4,4)\n",
        "\n",
        "for i in range(4):\n",
        "    for j in range(4):\n",
        "        axarr[i,j].imshow(np.array(train_set.data[tensor1[i,j]]))\n",
        "        axarr[i,j].title.set_text(map1[train_set.targets[tensor1[i,j]]])\n",
        "\n",
        "f.tight_layout()\n",
        "\n",
        "\n",
        "plt.show()\n",
        "\n"
      ],
      "metadata": {
        "colab": {
          "base_uri": "https://localhost:8080/",
          "height": 487
        },
        "id": "jhGnNxAm7htI",
        "outputId": "9756a75f-850c-4f77-91fa-22cd34109101"
      },
      "execution_count": 95,
      "outputs": [
        {
          "output_type": "display_data",
          "data": {
            "text/plain": [
              "<Figure size 640x480 with 16 Axes>"
            ],
            "image/png": "[encoded data removed]"
          },
          "metadata": {}
        }
      ]
    },
    {
      "cell_type": "code",
      "source": [
        "resnet = torchvision.models.resnet18(weights=True\n",
        "                                     )\n",
        "\n",
        "\n",
        "\n",
        "\n",
        "\n",
        "modified_resnet = nn.Sequential(*list(resnet.children())[:-1])\n",
        "\n",
        "for x,param in enumerate([*list(modified_resnet.parameters())][:45]):\n",
        "    print(x,param.shape)\n",
        "    param.required_grad = False\n",
        "\n",
        "print(\"with grad\")\n",
        "\n",
        "\n",
        "\n",
        "for j,param in enumerate([*list(modified_resnet.parameters())][45:]):\n",
        "    print(x+j+1,param.shape)\n",
        "    param.required_grad = True\n",
        "\n",
        "\n",
        "\n",
        "modified_resnet.to(torch.device(device))"
      ],
      "metadata": {
        "id": "0jxo3npWcUc2",
        "colab": {
          "base_uri": "https://localhost:8080/"
        },
        "outputId": "2b087b1a-72dc-4670-b355-b6b284a1d1ec"
      },
      "execution_count": 96,
      "outputs": [
        {
          "output_type": "stream",
          "name": "stderr",
          "text": [
            "/usr/local/lib/python3.10/dist-packages/torchvision/models/_utils.py:223: UserWarning: Arguments other than a weight enum or `None` for 'weights' are deprecated since 0.13 and may be removed in the future. The current behavior is equivalent to passing `weights=ResNet18_Weights.IMAGENET1K_V1`. You can also use `weights=ResNet18_Weights.DEFAULT` to get the most up-to-date weights.\n",
            "  warnings.warn(msg)\n"
          ]
        },
        {
          "output_type": "stream",
          "name": "stdout",
          "text": [
            "0 torch.Size([64, 3, 7, 7])\n",
            "1 torch.Size([64])\n",
            "2 torch.Size([64])\n",
            "3 torch.Size([64, 64, 3, 3])\n",
            "4 torch.Size([64])\n",
            "5 torch.Size([64])\n",
            "6 torch.Size([64, 64, 3, 3])\n",
            "7 torch.Size([64])\n",
            "8 torch.Size([64])\n",
            "9 torch.Size([64, 64, 3, 3])\n",
            "10 torch.Size([64])\n",
            "11 torch.Size([64])\n",
            "12 torch.Size([64, 64, 3, 3])\n",
            "13 torch.Size([64])\n",
            "14 torch.Size([64])\n",
            "15 torch.Size([128, 64, 3, 3])\n",
            "16 torch.Size([128])\n",
            "17 torch.Size([128])\n",
            "18 torch.Size([128, 128, 3, 3])\n",
            "19 torch.Size([128])\n",
            "20 torch.Size([128])\n",
            "21 torch.Size([128, 64, 1, 1])\n",
            "22 torch.Size([128])\n",
            "23 torch.Size([128])\n",
            "24 torch.Size([128, 128, 3, 3])\n",
            "25 torch.Size([128])\n",
            "26 torch.Size([128])\n",
            "27 torch.Size([128, 128, 3, 3])\n",
            "28 torch.Size([128])\n",
            "29 torch.Size([128])\n",
            "30 torch.Size([256, 128, 3, 3])\n",
            "31 torch.Size([256])\n",
            "32 torch.Size([256])\n",
            "33 torch.Size([256, 256, 3, 3])\n",
            "34 torch.Size([256])\n",
            "35 torch.Size([256])\n",
            "36 torch.Size([256, 128, 1, 1])\n",
            "37 torch.Size([256])\n",
            "38 torch.Size([256])\n",
            "39 torch.Size([256, 256, 3, 3])\n",
            "40 torch.Size([256])\n",
            "41 torch.Size([256])\n",
            "42 torch.Size([256, 256, 3, 3])\n",
            "43 torch.Size([256])\n",
            "44 torch.Size([256])\n",
            "with grad\n",
            "45 torch.Size([512, 256, 3, 3])\n",
            "46 torch.Size([512])\n",
            "47 torch.Size([512])\n",
            "48 torch.Size([512, 512, 3, 3])\n",
            "49 torch.Size([512])\n",
            "50 torch.Size([512])\n",
            "51 torch.Size([512, 256, 1, 1])\n",
            "52 torch.Size([512])\n",
            "53 torch.Size([512])\n",
            "54 torch.Size([512, 512, 3, 3])\n",
            "55 torch.Size([512])\n",
            "56 torch.Size([512])\n",
            "57 torch.Size([512, 512, 3, 3])\n",
            "58 torch.Size([512])\n",
            "59 torch.Size([512])\n"
          ]
        },
        {
          "output_type": "execute_result",
          "data": {
            "text/plain": [
              "Sequential(\n",
              "  (0): Conv2d(3, 64, kernel_size=(7, 7), stride=(2, 2), padding=(3, 3), bias=False)\n",
              "  (1): BatchNorm2d(64, eps=1e-05, momentum=0.1, affine=True, track_running_stats=True)\n",
              "  (2): ReLU(inplace=True)\n",
              "  (3): MaxPool2d(kernel_size=3, stride=2, padding=1, dilation=1, ceil_mode=False)\n",
              "  (4): Sequential(\n",
              "    (0): BasicBlock(\n",
              "      (conv1): Conv2d(64, 64, kernel_size=(3, 3), stride=(1, 1), padding=(1, 1), bias=False)\n",
              "      (bn1): BatchNorm2d(64, eps=1e-05, momentum=0.1, affine=True, track_running_stats=True)\n",
              "      (relu): ReLU(inplace=True)\n",
              "      (conv2): Conv2d(64, 64, kernel_size=(3, 3), stride=(1, 1), padding=(1, 1), bias=False)\n",
              "      (bn2): BatchNorm2d(64, eps=1e-05, momentum=0.1, affine=True, track_running_stats=True)\n",
              "    )\n",
              "    (1): BasicBlock(\n",
              "      (conv1): Conv2d(64, 64, kernel_size=(3, 3), stride=(1, 1), padding=(1, 1), bias=False)\n",
              "      (bn1): BatchNorm2d(64, eps=1e-05, momentum=0.1, affine=True, track_running_stats=True)\n",
              "      (relu): ReLU(inplace=True)\n",
              "      (conv2): Conv2d(64, 64, kernel_size=(3, 3), stride=(1, 1), padding=(1, 1), bias=False)\n",
              "      (bn2): BatchNorm2d(64, eps=1e-05, momentum=0.1, affine=True, track_running_stats=True)\n",
              "    )\n",
              "  )\n",
              "  (5): Sequential(\n",
              "    (0): BasicBlock(\n",
              "      (conv1): Conv2d(64, 128, kernel_size=(3, 3), stride=(2, 2), padding=(1, 1), bias=False)\n",
              "      (bn1): BatchNorm2d(128, eps=1e-05, momentum=0.1, affine=True, track_running_stats=True)\n",
              "      (relu): ReLU(inplace=True)\n",
              "      (conv2): Conv2d(128, 128, kernel_size=(3, 3), stride=(1, 1), padding=(1, 1), bias=False)\n",
              "      (bn2): BatchNorm2d(128, eps=1e-05, momentum=0.1, affine=True, track_running_stats=True)\n",
              "      (downsample): Sequential(\n",
              "        (0): Conv2d(64, 128, kernel_size=(1, 1), stride=(2, 2), bias=False)\n",
              "        (1): BatchNorm2d(128, eps=1e-05, momentum=0.1, affine=True, track_running_stats=True)\n",
              "      )\n",
              "    )\n",
              "    (1): BasicBlock(\n",
              "      (conv1): Conv2d(128, 128, kernel_size=(3, 3), stride=(1, 1), padding=(1, 1), bias=False)\n",
              "      (bn1): BatchNorm2d(128, eps=1e-05, momentum=0.1, affine=True, track_running_stats=True)\n",
              "      (relu): ReLU(inplace=True)\n",
              "      (conv2): Conv2d(128, 128, kernel_size=(3, 3), stride=(1, 1), padding=(1, 1), bias=False)\n",
              "      (bn2): BatchNorm2d(128, eps=1e-05, momentum=0.1, affine=True, track_running_stats=True)\n",
              "    )\n",
              "  )\n",
              "  (6): Sequential(\n",
              "    (0): BasicBlock(\n",
              "      (conv1): Conv2d(128, 256, kernel_size=(3, 3), stride=(2, 2), padding=(1, 1), bias=False)\n",
              "      (bn1): BatchNorm2d(256, eps=1e-05, momentum=0.1, affine=True, track_running_stats=True)\n",
              "      (relu): ReLU(inplace=True)\n",
              "      (conv2): Conv2d(256, 256, kernel_size=(3, 3), stride=(1, 1), padding=(1, 1), bias=False)\n",
              "      (bn2): BatchNorm2d(256, eps=1e-05, momentum=0.1, affine=True, track_running_stats=True)\n",
              "      (downsample): Sequential(\n",
              "        (0): Conv2d(128, 256, kernel_size=(1, 1), stride=(2, 2), bias=False)\n",
              "        (1): BatchNorm2d(256, eps=1e-05, momentum=0.1, affine=True, track_running_stats=True)\n",
              "      )\n",
              "    )\n",
              "    (1): BasicBlock(\n",
              "      (conv1): Conv2d(256, 256, kernel_size=(3, 3), stride=(1, 1), padding=(1, 1), bias=False)\n",
              "      (bn1): BatchNorm2d(256, eps=1e-05, momentum=0.1, affine=True, track_running_stats=True)\n",
              "      (relu): ReLU(inplace=True)\n",
              "      (conv2): Conv2d(256, 256, kernel_size=(3, 3), stride=(1, 1), padding=(1, 1), bias=False)\n",
              "      (bn2): BatchNorm2d(256, eps=1e-05, momentum=0.1, affine=True, track_running_stats=True)\n",
              "    )\n",
              "  )\n",
              "  (7): Sequential(\n",
              "    (0): BasicBlock(\n",
              "      (conv1): Conv2d(256, 512, kernel_size=(3, 3), stride=(2, 2), padding=(1, 1), bias=False)\n",
              "      (bn1): BatchNorm2d(512, eps=1e-05, momentum=0.1, affine=True, track_running_stats=True)\n",
              "      (relu): ReLU(inplace=True)\n",
              "      (conv2): Conv2d(512, 512, kernel_size=(3, 3), stride=(1, 1), padding=(1, 1), bias=False)\n",
              "      (bn2): BatchNorm2d(512, eps=1e-05, momentum=0.1, affine=True, track_running_stats=True)\n",
              "      (downsample): Sequential(\n",
              "        (0): Conv2d(256, 512, kernel_size=(1, 1), stride=(2, 2), bias=False)\n",
              "        (1): BatchNorm2d(512, eps=1e-05, momentum=0.1, affine=True, track_running_stats=True)\n",
              "      )\n",
              "    )\n",
              "    (1): BasicBlock(\n",
              "      (conv1): Conv2d(512, 512, kernel_size=(3, 3), stride=(1, 1), padding=(1, 1), bias=False)\n",
              "      (bn1): BatchNorm2d(512, eps=1e-05, momentum=0.1, affine=True, track_running_stats=True)\n",
              "      (relu): ReLU(inplace=True)\n",
              "      (conv2): Conv2d(512, 512, kernel_size=(3, 3), stride=(1, 1), padding=(1, 1), bias=False)\n",
              "      (bn2): BatchNorm2d(512, eps=1e-05, momentum=0.1, affine=True, track_running_stats=True)\n",
              "    )\n",
              "  )\n",
              "  (8): AdaptiveAvgPool2d(output_size=(1, 1))\n",
              ")"
            ]
          },
          "metadata": {},
          "execution_count": 96
        }
      ]
    },
    {
      "cell_type": "code",
      "source": [
        "class Cifar10(nn.Module):\n",
        "    def __init__(self,\n",
        "\n",
        "                 output:int,\n",
        "                 modified_resnet,\n",
        "                 device = 'cpu'\n",
        "                 ):\n",
        "        super().__init__()\n",
        "\n",
        "        self.stack1 = nn.Sequential(modified_resnet)\n",
        "\n",
        "\n",
        "        self.stack2 =  nn.Sequential(\n",
        "\n",
        "                                    nn.Linear(in_features = 512,\n",
        "                                              out_features = 64,\n",
        "\n",
        "                                              device = device),\n",
        "\n",
        "                                    nn.ReLU(),\n",
        "                                    nn.BatchNorm1d(num_features = 64, device = device)\n",
        "\n",
        "\n",
        "\n",
        "\n",
        "\n",
        "\n",
        "\n",
        "\n",
        "\n",
        "                               )\n",
        "\n",
        "        self.classifier = nn.Sequential(\n",
        "\n",
        "            nn.Linear(in_features = 64,\n",
        "                      out_features = 10,\n",
        "                      device = device),\n",
        "\n",
        "\n",
        "            nn.Softmax()\n",
        "\n",
        "        )\n",
        "\n",
        "    def forward(self,x):\n",
        "\n",
        "        x = self.stack1(x)\n",
        "\n",
        "        x = torch.squeeze(x)\n",
        "\n",
        "\n",
        "\n",
        "        x = self.stack2(x)\n",
        "\n",
        "\n",
        "\n",
        "        x = self.classifier(x)\n",
        "\n",
        "\n",
        "        return x\n",
        "\n",
        "\n",
        "\n",
        "\n",
        "\n"
      ],
      "metadata": {
        "id": "vlk2f7L4dC9c"
      },
      "execution_count": 97,
      "outputs": []
    },
    {
      "cell_type": "code",
      "source": [],
      "metadata": {
        "id": "PW7suzn6D5Bi"
      },
      "execution_count": 97,
      "outputs": []
    },
    {
      "cell_type": "code",
      "source": [
        "BATCH_SIZE = 40\n",
        "\n",
        "train_dataloader = torch.utils.data.DataLoader(train_set,\n",
        "                                               batch_size = BATCH_SIZE,\n",
        "                                               shuffle = True\n",
        "                                               )\n",
        "test_dataloader = torch.utils.data.DataLoader(test_set,\n",
        "                                              batch_size = 40,\n",
        "                                              shuffle = True\n",
        "                                              )\n",
        "len(train_dataloader),len(test_dataloader)\n",
        "\n",
        "x = iter(train_dataloader)\n",
        "print(x)"
      ],
      "metadata": {
        "id": "0LnFeJlPzUgF",
        "colab": {
          "base_uri": "https://localhost:8080/"
        },
        "outputId": "1a225f03-cac2-48a9-a4cc-974316314fda"
      },
      "execution_count": 98,
      "outputs": [
        {
          "output_type": "stream",
          "name": "stdout",
          "text": [
            "<torch.utils.data.dataloader._SingleProcessDataLoaderIter object at 0x7f6b96c20640>\n"
          ]
        }
      ]
    },
    {
      "cell_type": "code",
      "source": [
        "torch.manual_seed(42)\n",
        "\n",
        "model_0 = Cifar10(10, modified_resnet,device = device)\n",
        "\n"
      ],
      "metadata": {
        "id": "EUpOsQFlHMoJ"
      },
      "execution_count": 99,
      "outputs": []
    },
    {
      "cell_type": "code",
      "source": [
        "X = torch.rand((40,512)).to('cuda')\n",
        "\n",
        "y = model_0.stack2(X)\n",
        "\n",
        "y.shape"
      ],
      "metadata": {
        "colab": {
          "base_uri": "https://localhost:8080/"
        },
        "id": "O8CMCT0kEL00",
        "outputId": "82916145-dbe1-4e14-b70f-53a90f0f26cd"
      },
      "execution_count": 100,
      "outputs": [
        {
          "output_type": "execute_result",
          "data": {
            "text/plain": [
              "torch.Size([40, 64])"
            ]
          },
          "metadata": {},
          "execution_count": 100
        }
      ]
    },
    {
      "cell_type": "code",
      "source": [
        "X = torch.rand((40,3,32,32),device = device)\n",
        "\n",
        "y = model_0.stack1(X)\n",
        "\n",
        "y.shape"
      ],
      "metadata": {
        "colab": {
          "base_uri": "https://localhost:8080/"
        },
        "id": "Oj3Yl7ZJSCPT",
        "outputId": "145f2718-94b7-461d-b656-6adbb2df286b"
      },
      "execution_count": 101,
      "outputs": [
        {
          "output_type": "execute_result",
          "data": {
            "text/plain": [
              "torch.Size([40, 512, 1, 1])"
            ]
          },
          "metadata": {},
          "execution_count": 101
        }
      ]
    },
    {
      "cell_type": "code",
      "source": [
        "loss_fn = torch.nn.CrossEntropyLoss()\n",
        "\n",
        "L1_lambda = 0.001\n",
        "\n",
        "optimiser = torch.optim.SGD(model_0.parameters(),lr = 0.01)\n",
        "\n",
        "\n",
        "accuracy_fn = torchmetrics.Accuracy(task = 'multiclass',num_classes = 10).to(device)"
      ],
      "metadata": {
        "id": "SPpX82elI2yr"
      },
      "execution_count": 107,
      "outputs": []
    },
    {
      "cell_type": "code",
      "source": [
        "epochs = 10\n",
        "torch.manual_seed(42)\n",
        "\n",
        "\n",
        "\n",
        "\n",
        "for epoch in tqdm(range(epochs)):\n",
        "\n",
        "    print(\"\\n\")\n",
        "\n",
        "    print(f\"epochs: {epoch}\\n\\n\")\n",
        "\n",
        "\n",
        "    model_0.train()\n",
        "\n",
        "\n",
        "\n",
        "    total_loss = 0\n",
        "\n",
        "    total_accuracy = 0\n",
        "\n",
        "\n",
        "\n",
        "    for batch, (X,y) in enumerate(iter(train_dataloader)):\n",
        "\n",
        "        X,y = X.to(device),y.to(device)\n",
        "\n",
        "        y_pred = model_0.forward(X)\n",
        "\n",
        "\n",
        "\n",
        "\n",
        "\n",
        "        loss =loss_fn(y_pred,y)\n",
        "\n",
        "\n",
        "\n",
        "        accuracy = accuracy_fn(y_pred,y)\n",
        "\n",
        "        total_accuracy +=accuracy\n",
        "\n",
        "\n",
        "\n",
        "        total_loss += loss\n",
        "\n",
        "        optimiser.zero_grad()\n",
        "\n",
        "        loss.backward()\n",
        "\n",
        "        optimiser.step()\n",
        "\n",
        "\n",
        "        if batch%250 == 0:\n",
        "            print(f\"batch: {batch} \\ntrain loss : {loss}, accuracy: {accuracy*100}\")\n",
        "\n",
        "\n",
        "    total_loss = total_loss/len(train_dataloader)\n",
        "\n",
        "    total_accuracy = total_accuracy/len(train_dataloader)\n",
        "\n",
        "    print(f\"\\n\\nepoch: {epoch} completed!!\\ntotal train loss : {total_loss}\\ntrain accuracy : {total_accuracy*100}\\n\\n\")\n",
        "\n",
        "\n",
        "\n",
        "    model_0.eval()\n",
        "\n",
        "    with torch.inference_mode():\n",
        "\n",
        "        total_loss,total_acc = 0,0\n",
        "\n",
        "        for X,y in test_dataloader:\n",
        "\n",
        "            X,y = X.to(device),y.to(device)\n",
        "\n",
        "            y_pred = model_0(X)\n",
        "\n",
        "            loss = loss_fn(y_pred,y)\n",
        "\n",
        "            accuracy = accuracy_fn(y_pred,y)\n",
        "\n",
        "            total_loss += loss\n",
        "\n",
        "            total_acc += accuracy\n",
        "\n",
        "        total_loss = total_loss/len(test_dataloader)\n",
        "\n",
        "        total_acc = total_acc/len(test_dataloader)\n",
        "\n",
        "        total_acc*= 100\n",
        "\n",
        "        print(f\"total test loss : {total_loss}\\ntest accuracy : {total_acc}\\n\\n\")\n",
        "\n",
        "\n",
        "        print('\\n\\n')\n",
        "\n",
        "\n",
        "\n",
        "\n"
      ],
      "metadata": {
        "id": "e1KMuXkZHBpa",
        "colab": {
          "base_uri": "https://localhost:8080/"
        },
        "outputId": "e689d3e0-d722-43d4-bd75-36d4f9440071"
      },
      "execution_count": 108,
      "outputs": [
        {
          "output_type": "stream",
          "name": "stderr",
          "text": [
            "\r  0%|          | 0/10 [00:00<?, ?it/s]"
          ]
        },
        {
          "output_type": "stream",
          "name": "stdout",
          "text": [
            "\n",
            "\n",
            "epochs: 0\n",
            "\n",
            "\n",
            "batch: 0 \n",
            "train loss : 1.651476502418518, accuracy: 82.5\n",
            "batch: 250 \n",
            "train loss : 1.542456865310669, accuracy: 92.5\n",
            "batch: 500 \n",
            "train loss : 1.650345802307129, accuracy: 80.0\n",
            "batch: 750 \n",
            "train loss : 1.6513614654541016, accuracy: 80.0\n",
            "batch: 1000 \n",
            "train loss : 1.6113325357437134, accuracy: 85.0\n",
            "\n",
            "\n",
            "epoch: 0 completed!!\n",
            "total train loss : 1.620806097984314\n",
            "train accuracy : 83.98800659179688\n",
            "\n",
            "\n"
          ]
        },
        {
          "output_type": "stream",
          "name": "stderr",
          "text": [
            "\r 10%|█         | 1/10 [00:24<03:39, 24.41s/it]"
          ]
        },
        {
          "output_type": "stream",
          "name": "stdout",
          "text": [
            "total test loss : 1.6625758409500122\n",
            "test accuracy : 79.84000396728516\n",
            "\n",
            "\n",
            "\n",
            "\n",
            "\n",
            "\n",
            "\n",
            "epochs: 1\n",
            "\n",
            "\n",
            "batch: 0 \n",
            "train loss : 1.54036545753479, accuracy: 92.5\n",
            "batch: 250 \n",
            "train loss : 1.607952356338501, accuracy: 85.0\n",
            "batch: 500 \n",
            "train loss : 1.6745179891586304, accuracy: 77.5\n",
            "batch: 750 \n",
            "train loss : 1.6360347270965576, accuracy: 82.5\n",
            "batch: 1000 \n",
            "train loss : 1.5576486587524414, accuracy: 90.0\n",
            "\n",
            "\n",
            "epoch: 1 completed!!\n",
            "total train loss : 1.6032832860946655\n",
            "train accuracy : 85.72599029541016\n",
            "\n",
            "\n"
          ]
        },
        {
          "output_type": "stream",
          "name": "stderr",
          "text": [
            "\r 20%|██        | 2/10 [00:48<03:13, 24.22s/it]"
          ]
        },
        {
          "output_type": "stream",
          "name": "stdout",
          "text": [
            "total test loss : 1.6546342372894287\n",
            "test accuracy : 80.66999053955078\n",
            "\n",
            "\n",
            "\n",
            "\n",
            "\n",
            "\n",
            "\n",
            "epochs: 2\n",
            "\n",
            "\n",
            "batch: 0 \n",
            "train loss : 1.6862455606460571, accuracy: 77.5\n",
            "batch: 250 \n",
            "train loss : 1.6547319889068604, accuracy: 80.0\n",
            "batch: 500 \n",
            "train loss : 1.6176306009292603, accuracy: 85.0\n",
            "batch: 750 \n",
            "train loss : 1.5906946659088135, accuracy: 87.5\n",
            "batch: 1000 \n",
            "train loss : 1.5863884687423706, accuracy: 87.5\n",
            "\n",
            "\n",
            "epoch: 2 completed!!\n",
            "total train loss : 1.5958341360092163\n",
            "train accuracy : 86.5360107421875\n",
            "\n",
            "\n"
          ]
        },
        {
          "output_type": "stream",
          "name": "stderr",
          "text": [
            "\r 30%|███       | 3/10 [01:11<02:46, 23.74s/it]"
          ]
        },
        {
          "output_type": "stream",
          "name": "stdout",
          "text": [
            "total test loss : 1.6510590314865112\n",
            "test accuracy : 80.93997192382812\n",
            "\n",
            "\n",
            "\n",
            "\n",
            "\n",
            "\n",
            "\n",
            "epochs: 3\n",
            "\n",
            "\n",
            "batch: 0 \n",
            "train loss : 1.6631059646606445, accuracy: 77.5\n",
            "batch: 250 \n",
            "train loss : 1.6587231159210205, accuracy: 80.0\n",
            "batch: 500 \n",
            "train loss : 1.5787090063095093, accuracy: 87.5\n",
            "batch: 750 \n",
            "train loss : 1.5582466125488281, accuracy: 92.5\n",
            "batch: 1000 \n",
            "train loss : 1.5356431007385254, accuracy: 92.5\n",
            "\n",
            "\n",
            "epoch: 3 completed!!\n",
            "total train loss : 1.5892561674118042\n",
            "train accuracy : 87.1519775390625\n",
            "\n",
            "\n"
          ]
        },
        {
          "output_type": "stream",
          "name": "stderr",
          "text": [
            "\r 40%|████      | 4/10 [01:35<02:22, 23.77s/it]"
          ]
        },
        {
          "output_type": "stream",
          "name": "stdout",
          "text": [
            "total test loss : 1.6496614217758179\n",
            "test accuracy : 81.04999542236328\n",
            "\n",
            "\n",
            "\n",
            "\n",
            "\n",
            "\n",
            "\n",
            "epochs: 4\n",
            "\n",
            "\n",
            "batch: 0 \n",
            "train loss : 1.5874496698379517, accuracy: 87.5\n",
            "batch: 250 \n",
            "train loss : 1.635801911354065, accuracy: 82.5\n",
            "batch: 500 \n",
            "train loss : 1.6427552700042725, accuracy: 82.5\n",
            "batch: 750 \n",
            "train loss : 1.6600555181503296, accuracy: 80.0\n",
            "batch: 1000 \n",
            "train loss : 1.5822454690933228, accuracy: 87.5\n",
            "\n",
            "\n",
            "epoch: 4 completed!!\n",
            "total train loss : 1.5853095054626465\n",
            "train accuracy : 87.57203674316406\n",
            "\n",
            "\n"
          ]
        },
        {
          "output_type": "stream",
          "name": "stderr",
          "text": [
            "\r 50%|█████     | 5/10 [01:59<01:58, 23.78s/it]"
          ]
        },
        {
          "output_type": "stream",
          "name": "stdout",
          "text": [
            "total test loss : 1.652415156364441\n",
            "test accuracy : 80.79999542236328\n",
            "\n",
            "\n",
            "\n",
            "\n",
            "\n",
            "\n",
            "\n",
            "epochs: 5\n",
            "\n",
            "\n",
            "batch: 0 \n",
            "train loss : 1.6227089166641235, accuracy: 85.0\n",
            "batch: 250 \n",
            "train loss : 1.5913810729980469, accuracy: 87.5\n",
            "batch: 500 \n",
            "train loss : 1.5361405611038208, accuracy: 92.5\n",
            "batch: 750 \n",
            "train loss : 1.585330605506897, accuracy: 87.5\n",
            "batch: 1000 \n",
            "train loss : 1.6331230401992798, accuracy: 82.5\n",
            "\n",
            "\n",
            "epoch: 5 completed!!\n",
            "total train loss : 1.5809370279312134\n",
            "train accuracy : 87.98200225830078\n",
            "\n",
            "\n"
          ]
        },
        {
          "output_type": "stream",
          "name": "stderr",
          "text": [
            "\r 60%|██████    | 6/10 [02:23<01:35, 23.81s/it]"
          ]
        },
        {
          "output_type": "stream",
          "name": "stdout",
          "text": [
            "total test loss : 1.6471210718154907\n",
            "test accuracy : 81.37004089355469\n",
            "\n",
            "\n",
            "\n",
            "\n",
            "\n",
            "\n",
            "\n",
            "epochs: 6\n",
            "\n",
            "\n",
            "batch: 0 \n",
            "train loss : 1.6406314373016357, accuracy: 82.5\n",
            "batch: 250 \n",
            "train loss : 1.6111772060394287, accuracy: 85.0\n",
            "batch: 500 \n",
            "train loss : 1.5614343881607056, accuracy: 90.0\n",
            "batch: 750 \n",
            "train loss : 1.5540096759796143, accuracy: 90.0\n",
            "batch: 1000 \n",
            "train loss : 1.5196548700332642, accuracy: 95.0\n",
            "\n",
            "\n",
            "epoch: 6 completed!!\n",
            "total train loss : 1.578535795211792\n",
            "train accuracy : 88.23401641845703\n",
            "\n",
            "\n"
          ]
        },
        {
          "output_type": "stream",
          "name": "stderr",
          "text": [
            "\r 70%|███████   | 7/10 [02:46<01:10, 23.53s/it]"
          ]
        },
        {
          "output_type": "stream",
          "name": "stdout",
          "text": [
            "total test loss : 1.6432753801345825\n",
            "test accuracy : 81.71998596191406\n",
            "\n",
            "\n",
            "\n",
            "\n",
            "\n",
            "\n",
            "\n",
            "epochs: 7\n",
            "\n",
            "\n",
            "batch: 0 \n",
            "train loss : 1.5017701387405396, accuracy: 97.5\n",
            "batch: 250 \n",
            "train loss : 1.5594085454940796, accuracy: 90.0\n",
            "batch: 500 \n",
            "train loss : 1.5207290649414062, accuracy: 95.0\n",
            "batch: 750 \n",
            "train loss : 1.5735986232757568, accuracy: 90.0\n",
            "batch: 1000 \n",
            "train loss : 1.6048460006713867, accuracy: 85.0\n",
            "\n",
            "\n",
            "epoch: 7 completed!!\n",
            "total train loss : 1.5751103162765503\n",
            "train accuracy : 88.60205841064453\n",
            "\n",
            "\n"
          ]
        },
        {
          "output_type": "stream",
          "name": "stderr",
          "text": [
            "\r 80%|████████  | 8/10 [03:09<00:47, 23.63s/it]"
          ]
        },
        {
          "output_type": "stream",
          "name": "stdout",
          "text": [
            "total test loss : 1.6444588899612427\n",
            "test accuracy : 81.68000030517578\n",
            "\n",
            "\n",
            "\n",
            "\n",
            "\n",
            "\n",
            "\n",
            "epochs: 8\n",
            "\n",
            "\n",
            "batch: 0 \n",
            "train loss : 1.5366506576538086, accuracy: 92.5\n",
            "batch: 250 \n",
            "train loss : 1.5669373273849487, accuracy: 90.0\n",
            "batch: 500 \n",
            "train loss : 1.6835358142852783, accuracy: 77.5\n",
            "batch: 750 \n",
            "train loss : 1.573941707611084, accuracy: 90.0\n",
            "batch: 1000 \n",
            "train loss : 1.5876710414886475, accuracy: 87.5\n",
            "\n",
            "\n",
            "epoch: 8 completed!!\n",
            "total train loss : 1.5708123445510864\n",
            "train accuracy : 89.02403259277344\n",
            "\n",
            "\n"
          ]
        },
        {
          "output_type": "stream",
          "name": "stderr",
          "text": [
            "\r 90%|█████████ | 9/10 [03:33<00:23, 23.74s/it]"
          ]
        },
        {
          "output_type": "stream",
          "name": "stdout",
          "text": [
            "total test loss : 1.6450635194778442\n",
            "test accuracy : 81.55000305175781\n",
            "\n",
            "\n",
            "\n",
            "\n",
            "\n",
            "\n",
            "\n",
            "epochs: 9\n",
            "\n",
            "\n",
            "batch: 0 \n",
            "train loss : 1.5465327501296997, accuracy: 92.5\n",
            "batch: 250 \n",
            "train loss : 1.5844244956970215, accuracy: 85.0\n",
            "batch: 500 \n",
            "train loss : 1.6277716159820557, accuracy: 82.5\n",
            "batch: 750 \n",
            "train loss : 1.609073281288147, accuracy: 85.0\n",
            "batch: 1000 \n",
            "train loss : 1.54054856300354, accuracy: 92.5\n",
            "\n",
            "\n",
            "epoch: 9 completed!!\n",
            "total train loss : 1.569185733795166\n",
            "train accuracy : 89.17205047607422\n",
            "\n",
            "\n"
          ]
        },
        {
          "output_type": "stream",
          "name": "stderr",
          "text": [
            "100%|██████████| 10/10 [03:56<00:00, 23.66s/it]"
          ]
        },
        {
          "output_type": "stream",
          "name": "stdout",
          "text": [
            "total test loss : 1.6444193124771118\n",
            "test accuracy : 81.65000915527344\n",
            "\n",
            "\n",
            "\n",
            "\n",
            "\n"
          ]
        },
        {
          "output_type": "stream",
          "name": "stderr",
          "text": [
            "\n"
          ]
        }
      ]
    },
    {
      "cell_type": "code",
      "source": [
        "\n"
      ],
      "metadata": {
        "id": "cr94x72D0jZb"
      },
      "execution_count": 109,
      "outputs": []
    },
    {
      "cell_type": "code",
      "source": [
        "\n",
        "\n",
        "\n"
      ],
      "metadata": {
        "id": "MOb-5eZmpOcB"
      },
      "execution_count": 110,
      "outputs": []
    },
    {
      "cell_type": "code",
      "source": [],
      "metadata": {
        "id": "BSXWhf5h2X_a"
      },
      "execution_count": 110,
      "outputs": []
    }
  ]
}